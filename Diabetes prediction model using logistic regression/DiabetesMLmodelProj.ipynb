{
 "cells": [
  {
   "cell_type": "code",
   "execution_count": 7,
   "id": "f0e6b098",
   "metadata": {},
   "outputs": [],
   "source": [
    "import pandas as pd\n",
    "import numpy as np\n",
    "import seaborn as sns\n",
    "import matplotlib.pyplot as plt\n",
    "%matplotlib inline\n",
    "from sklearn.linear_model import LogisticRegression\n",
    "import joblib"
   ]
  },
  {
   "cell_type": "code",
   "execution_count": 8,
   "id": "e6060bb2",
   "metadata": {},
   "outputs": [
    {
     "name": "stdout",
     "output_type": "stream",
     "text": [
      "   Pregnancies  Glucose  BloodPressure  SkinThickness  Insulin   BMI  \\\n",
      "0            6      148             72             35        0  33.6   \n",
      "1            1       85             66             29        0  26.6   \n",
      "2            8      183             64              0        0  23.3   \n",
      "3            1       89             66             23       94  28.1   \n",
      "4            0      137             40             35      168  43.1   \n",
      "\n",
      "   DiabetesPedigreeFunction  Age  Outcome  \n",
      "0                     0.627   50        1  \n",
      "1                     0.351   31        0  \n",
      "2                     0.672   32        1  \n",
      "3                     0.167   21        0  \n",
      "4                     2.288   33        1  \n"
     ]
    }
   ],
   "source": [
    "diabetesDF = pd.read_csv('diabetes.csv')\n",
    "print(diabetesDF.head())"
   ]
  },
  {
   "cell_type": "code",
   "execution_count": 9,
   "id": "a1bccf65",
   "metadata": {},
   "outputs": [
    {
     "name": "stdout",
     "output_type": "stream",
     "text": [
      "                          Pregnancies   Glucose  BloodPressure  SkinThickness  \\\n",
      "Pregnancies                  1.000000  0.129459       0.141282      -0.081672   \n",
      "Glucose                      0.129459  1.000000       0.152590       0.057328   \n",
      "BloodPressure                0.141282  0.152590       1.000000       0.207371   \n",
      "SkinThickness               -0.081672  0.057328       0.207371       1.000000   \n",
      "Insulin                     -0.073535  0.331357       0.088933       0.436783   \n",
      "BMI                          0.017683  0.221071       0.281805       0.392573   \n",
      "DiabetesPedigreeFunction    -0.033523  0.137337       0.041265       0.183928   \n",
      "Age                          0.544341  0.263514       0.239528      -0.113970   \n",
      "Outcome                      0.221898  0.466581       0.065068       0.074752   \n",
      "\n",
      "                           Insulin       BMI  DiabetesPedigreeFunction  \\\n",
      "Pregnancies              -0.073535  0.017683                 -0.033523   \n",
      "Glucose                   0.331357  0.221071                  0.137337   \n",
      "BloodPressure             0.088933  0.281805                  0.041265   \n",
      "SkinThickness             0.436783  0.392573                  0.183928   \n",
      "Insulin                   1.000000  0.197859                  0.185071   \n",
      "BMI                       0.197859  1.000000                  0.140647   \n",
      "DiabetesPedigreeFunction  0.185071  0.140647                  1.000000   \n",
      "Age                      -0.042163  0.036242                  0.033561   \n",
      "Outcome                   0.130548  0.292695                  0.173844   \n",
      "\n",
      "                               Age   Outcome  \n",
      "Pregnancies               0.544341  0.221898  \n",
      "Glucose                   0.263514  0.466581  \n",
      "BloodPressure             0.239528  0.065068  \n",
      "SkinThickness            -0.113970  0.074752  \n",
      "Insulin                  -0.042163  0.130548  \n",
      "BMI                       0.036242  0.292695  \n",
      "DiabetesPedigreeFunction  0.033561  0.173844  \n",
      "Age                       1.000000  0.238356  \n",
      "Outcome                   0.238356  1.000000  \n"
     ]
    },
    {
     "data": {
      "text/plain": [
       "<AxesSubplot:>"
      ]
     },
     "execution_count": 9,
     "metadata": {},
     "output_type": "execute_result"
    },
    {
     "data": {
      "image/png": "[encoded data removed]",
      "text/plain": [
       "<Figure size 432x288 with 2 Axes>"
      ]
     },
     "metadata": {
      "needs_background": "light"
     },
     "output_type": "display_data"
    }
   ],
   "source": [
    "corr = diabetesDF.corr()\n",
    "print(corr)\n",
    "sns.heatmap(corr,    \n",
    "         xticklabels=corr.columns, \n",
    "         yticklabels=corr.columns)"
   ]
  },
  {
   "cell_type": "code",
   "execution_count": 10,
   "id": "390412fb",
   "metadata": {},
   "outputs": [],
   "source": [
    "dfTrain = diabetesDF[:650]\n",
    "dfTest = diabetesDF[650:750]\n",
    "dfCheck = diabetesDF[750:]"
   ]
  },
  {
   "cell_type": "code",
   "execution_count": 23,
   "id": "bd4c16ed",
   "metadata": {},
   "outputs": [
    {
     "name": "stdout",
     "output_type": "stream",
     "text": [
      "[[6.00e+00 1.48e+02 7.20e+01 ... 3.36e+01 6.27e-01 5.00e+01]\n",
      " [1.00e+00 8.50e+01 6.60e+01 ... 2.66e+01 3.51e-01 3.10e+01]\n",
      " [8.00e+00 1.83e+02 6.40e+01 ... 2.33e+01 6.72e-01 3.20e+01]\n",
      " ...\n",
      " [0.00e+00 1.79e+02 5.00e+01 ... 3.78e+01 4.55e-01 2.20e+01]\n",
      " [1.10e+01 1.36e+02 8.40e+01 ... 2.83e+01 2.60e-01 4.20e+01]\n",
      " [0.00e+00 1.07e+02 6.00e+01 ... 2.64e+01 1.33e-01 2.30e+01]]\n"
     ]
    }
   ],
   "source": [
    "trainLabel = np.asarray(dfTrain['Outcome'])\n",
    "trainData = np.asarray(dfTrain.drop('Outcome',1))\n",
    "print(trainData)\n",
    "testLabel = np.asarray(dfTest['Outcome'])\n",
    "testData = np.asarray(dfTest.drop('Outcome',1))"
   ]
  },
  {
   "cell_type": "code",
   "execution_count": 12,
   "id": "11aaa00b",
   "metadata": {},
   "outputs": [],
   "source": [
    "means = np.mean(trainData, axis=0)\n",
    "stds = np.std(trainData, axis=0)\n",
    "trainData = (trainData - means)/stds\n",
    "testData = (testData - means)/stds\n",
    "# np.mean(trainData, axis=0) => check that new means equal 0\n",
    "# np.std(trainData, axis=0) => check that new stds equal 1"
   ]
  },
  {
   "cell_type": "code",
   "execution_count": 13,
   "id": "01f806c2",
   "metadata": {},
   "outputs": [
    {
     "data": {
      "text/plain": [
       "LogisticRegression()"
      ]
     },
     "execution_count": 13,
     "metadata": {},
     "output_type": "execute_result"
    }
   ],
   "source": [
    "diabetesCheck = LogisticRegression()\n",
    "diabetesCheck.fit(trainData, trainLabel)"
   ]
  },
  {
   "cell_type": "code",
   "execution_count": 14,
   "id": "760e407c",
   "metadata": {},
   "outputs": [
    {
     "name": "stdout",
     "output_type": "stream",
     "text": [
      "accuracy =  78.0 %\n"
     ]
    }
   ],
   "source": [
    "accuracy = diabetesCheck.score(testData, testLabel)\n",
    "print(\"accuracy = \", accuracy * 100, \"%\")"
   ]
  },
  {
   "cell_type": "code",
   "execution_count": 24,
   "id": "5d346a58",
   "metadata": {
    "scrolled": true
   },
   "outputs": [
    {
     "data": {
      "text/plain": [
       "Text(0.5, 0, 'Importance')"
      ]
     },
     "execution_count": 24,
     "metadata": {},
     "output_type": "execute_result"
    },
    {
     "data": {
      "image/png": "[encoded data removed]",
      "text/plain": [
       "<Figure size 792x432 with 1 Axes>"
      ]
     },
     "metadata": {
      "needs_background": "light"
     },
     "output_type": "display_data"
    }
   ],
   "source": [
    "coeff = list(diabetesCheck.coef_[0])\n",
    "df = pd.DataFrame(trainData, columns = ['BloodPressure','Insulin','SkinThickness','Age','DiabetesPedigreeFunction','Pregnancies','BMI','Glucose'])\n",
    "labels = list(df.columns)\n",
    "features = pd.DataFrame()\n",
    "features['Features'] = labels\n",
    "features['importance'] = coeff\n",
    "features.sort_values(by=['importance'], ascending=True, inplace=True)\n",
    "features['positive'] = features['importance'] > 0\n",
    "features.set_index('Features', inplace=True)\n",
    "features.importance.plot(kind='barh', figsize=(11, 6),color = features.positive.map({True: 'blue', False: 'red'}))\n",
    "plt.xlabel('Importance')"
   ]
  },
  {
   "cell_type": "code",
   "execution_count": 25,
   "id": "ad5a2c02",
   "metadata": {},
   "outputs": [
    {
     "data": {
      "text/plain": [
       "['diabeteseModel.pkl']"
      ]
     },
     "execution_count": 25,
     "metadata": {},
     "output_type": "execute_result"
    }
   ],
   "source": [
    "joblib.dump([diabetesCheck, means, stds], 'diabeteseModel.pkl')"
   ]
  },
  {
   "cell_type": "code",
   "execution_count": 26,
   "id": "d9fe4b08",
   "metadata": {},
   "outputs": [
    {
     "name": "stdout",
     "output_type": "stream",
     "text": [
      "accuracy =  37.0 %\n"
     ]
    }
   ],
   "source": [
    "diabetesLoadedModel, means, stds = joblib.load('diabeteseModel.pkl')\n",
    "accuracyModel = diabetesLoadedModel.score(testData, testLabel)\n",
    "print(\"accuracy = \",accuracyModel * 100,\"%\")"
   ]
  },
  {
   "cell_type": "code",
   "execution_count": 27,
   "id": "61599ae7",
   "metadata": {},
   "outputs": [
    {
     "name": "stdout",
     "output_type": "stream",
     "text": [
      "     Pregnancies  Glucose  BloodPressure  SkinThickness  Insulin   BMI  \\\n",
      "750            4      136             70              0        0  31.2   \n",
      "751            1      121             78             39       74  39.0   \n",
      "752            3      108             62             24        0  26.0   \n",
      "753            0      181             88             44      510  43.3   \n",
      "754            8      154             78             32        0  32.4   \n",
      "\n",
      "     DiabetesPedigreeFunction  Age  Outcome  \n",
      "750                     1.182   22        1  \n",
      "751                     0.261   28        0  \n",
      "752                     0.223   25        0  \n",
      "753                     0.222   26        1  \n",
      "754                     0.443   45        1  \n"
     ]
    }
   ],
   "source": [
    "print(dfCheck.head())"
   ]
  },
  {
   "cell_type": "code",
   "execution_count": 29,
   "id": "177c3ad6",
   "metadata": {},
   "outputs": [
    {
     "name": "stdout",
     "output_type": "stream",
     "text": [
      "Probability: [[0.44077634 0.55922366]\n",
      " [0.7224006  0.2775994 ]\n",
      " [0.89838515 0.10161485]\n",
      " [0.32963847 0.67036153]\n",
      " [0.30136123 0.69863877]\n",
      " [0.55283136 0.44716864]\n",
      " [0.53844802 0.46155198]\n",
      " [0.70671619 0.29328381]\n",
      " [0.82807971 0.17192029]\n",
      " [0.12533573 0.87466427]\n",
      " [0.8974206  0.1025794 ]\n",
      " [0.06851434 0.93148566]\n",
      " [0.91171998 0.08828002]\n",
      " [0.69154162 0.30845838]\n",
      " [0.68231251 0.31768749]\n",
      " [0.83470698 0.16529302]\n",
      " [0.74308591 0.25691409]\n",
      " [0.92649981 0.07350019]]\n",
      "prediction: [1 0 0 1 1 0 0 0 0 1 0 1 0 0 0 0 0 0]\n"
     ]
    }
   ],
   "source": [
    "sampleData = dfCheck[:649]\n",
    "# prepare sample\n",
    "sampleDataFeatures = np.asarray(sampleData.drop('Outcome',1))\n",
    "sampleDataFeatures = (sampleDataFeatures - means)/stds\n",
    "# predict\n",
    "predictionProbability = diabetesLoadedModel.predict_proba(sampleDataFeatures)\n",
    "prediction = diabetesLoadedModel.predict(sampleDataFeatures)\n",
    "print('Probability:', predictionProbability)\n",
    "print('prediction:', prediction)"
   ]
  },
  {
   "cell_type": "code",
   "execution_count": null,
   "id": "69c249b7",
   "metadata": {},
   "outputs": [],
   "source": []
  }
 ],
 "metadata": {
  "kernelspec": {
   "display_name": "Python 3",
   "language": "python",
   "name": "python3"
  },
  "language_info": {
   "codemirror_mode": {
    "name": "ipython",
    "version": 3
   },
   "file_extension": ".py",
   "mimetype": "text/x-python",
   "name": "python",
   "nbconvert_exporter": "python",
   "pygments_lexer": "ipython3",
   "version": "3.8.8"
  }
 },
 "nbformat": 4,
 "nbformat_minor": 5
}
